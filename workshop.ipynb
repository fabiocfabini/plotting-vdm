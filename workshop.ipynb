{
 "cells": [
  {
   "cell_type": "markdown",
   "metadata": {},
   "source": [
    "# Plotting VdM Workshop"
   ]
  },
  {
   "cell_type": "markdown",
   "metadata": {},
   "source": [
    "## What it is\n",
    "\n",
    "This package is essentially a colection of common plots. Currently, it allows for some costumization of the plots through its. The package is still in development and will be updated as needed."
   ]
  },
  {
   "cell_type": "markdown",
   "metadata": {},
   "source": [
    "## What it isn't\n",
    "\n",
    "It is not a one size fits all plotting package. It's purpose is to make it easier to make common plots and to allow for those plots to be twicked to the user's needs. However, it can be extended to include more plots than the ones that are now included.\n",
    "\n",
    "**_Note_**: A `ScanResults` class is also underdevelopment that could facilitate the creation of more specific plots."
   ]
  },
  {
   "cell_type": "markdown",
   "metadata": {},
   "source": [
    "## Current Available Plots\n",
    "\n",
    "### \"`Normal`\" Plots\n",
    "\n",
    "Normal plots are normal simply because they plot the data with no modifications. Some examples of `Normal` plots are:\n",
    "\n",
    "- $\\Sigma_X$ vs _BCID_:\n",
    "\n",
    "<img src=\"plots_final/8381_11Nov22_114759_11Nov22_121408/normal/capsigma/X_DG_Background.png\" width=\"500\">"
   ]
  }
 ],
 "metadata": {
  "language_info": {
   "name": "python"
  }
 },
 "nbformat": 4,
 "nbformat_minor": 2
}
